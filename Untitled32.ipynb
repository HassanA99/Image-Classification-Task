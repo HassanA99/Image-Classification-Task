{
  "nbformat": 4,
  "nbformat_minor": 0,
  "metadata": {
    "colab": {
      "provenance": [],
      "authorship_tag": "ABX9TyMA8HOIX4beTGtSmxpMjCru",
      "include_colab_link": true
    },
    "kernelspec": {
      "name": "python3",
      "display_name": "Python 3"
    },
    "language_info": {
      "name": "python"
    }
  },
  "cells": [
    {
      "cell_type": "markdown",
      "metadata": {
        "id": "view-in-github",
        "colab_type": "text"
      },
      "source": [
        "<a href=\"https://colab.research.google.com/github/HassanA99/Image-Classification-Task/blob/main/Untitled32.ipynb\" target=\"_parent\"><img src=\"https://colab.research.google.com/assets/colab-badge.svg\" alt=\"Open In Colab\"/></a>"
      ]
    },
    {
      "cell_type": "code",
      "execution_count": 1,
      "metadata": {
        "colab": {
          "base_uri": "https://localhost:8080/"
        },
        "id": "qRUAatnbOGc5",
        "outputId": "0fa0e6f0-8a2c-421e-b892-cb337e9e8bde"
      },
      "outputs": [
        {
          "output_type": "stream",
          "name": "stdout",
          "text": [
            "hassan\n"
          ]
        }
      ],
      "source": [
        "print(\"hassan\")"
      ]
    },
    {
      "cell_type": "markdown",
      "source": [
        "# SQL Operations with TMDB Database\n",
        "\n",
        "In this section, I will connect to the TMDB (The Movie Database) database stored in `TMDB.db` and perform various SQL operations using SQLite.\n",
        "\n",
        ""
      ],
      "metadata": {
        "id": "H8n6Fl6jQrPF"
      }
    },
    {
      "cell_type": "code",
      "source": [
        "!pip install sqlalchemy\n",
        "!pip install ipython-sql\n"
      ],
      "metadata": {
        "colab": {
          "base_uri": "https://localhost:8080/"
        },
        "id": "iOFf_t9pONqT",
        "outputId": "56a75f65-933a-41f0-c095-15f18495089f"
      },
      "execution_count": 9,
      "outputs": [
        {
          "output_type": "stream",
          "name": "stdout",
          "text": [
            "Requirement already satisfied: sqlalchemy in /usr/local/lib/python3.10/dist-packages (2.0.31)\n",
            "Requirement already satisfied: typing-extensions>=4.6.0 in /usr/local/lib/python3.10/dist-packages (from sqlalchemy) (4.12.2)\n",
            "Requirement already satisfied: greenlet!=0.4.17 in /usr/local/lib/python3.10/dist-packages (from sqlalchemy) (3.0.3)\n",
            "Requirement already satisfied: ipython-sql in /usr/local/lib/python3.10/dist-packages (0.5.0)\n",
            "Requirement already satisfied: prettytable in /usr/local/lib/python3.10/dist-packages (from ipython-sql) (3.10.2)\n",
            "Requirement already satisfied: ipython in /usr/local/lib/python3.10/dist-packages (from ipython-sql) (7.34.0)\n",
            "Requirement already satisfied: sqlalchemy>=2.0 in /usr/local/lib/python3.10/dist-packages (from ipython-sql) (2.0.31)\n",
            "Requirement already satisfied: sqlparse in /usr/local/lib/python3.10/dist-packages (from ipython-sql) (0.5.1)\n",
            "Requirement already satisfied: six in /usr/local/lib/python3.10/dist-packages (from ipython-sql) (1.16.0)\n",
            "Requirement already satisfied: ipython-genutils in /usr/local/lib/python3.10/dist-packages (from ipython-sql) (0.2.0)\n",
            "Requirement already satisfied: typing-extensions>=4.6.0 in /usr/local/lib/python3.10/dist-packages (from sqlalchemy>=2.0->ipython-sql) (4.12.2)\n",
            "Requirement already satisfied: greenlet!=0.4.17 in /usr/local/lib/python3.10/dist-packages (from sqlalchemy>=2.0->ipython-sql) (3.0.3)\n",
            "Requirement already satisfied: setuptools>=18.5 in /usr/local/lib/python3.10/dist-packages (from ipython->ipython-sql) (71.0.4)\n",
            "Collecting jedi>=0.16 (from ipython->ipython-sql)\n",
            "  Downloading jedi-0.19.1-py2.py3-none-any.whl.metadata (22 kB)\n",
            "Requirement already satisfied: decorator in /usr/local/lib/python3.10/dist-packages (from ipython->ipython-sql) (4.4.2)\n",
            "Requirement already satisfied: pickleshare in /usr/local/lib/python3.10/dist-packages (from ipython->ipython-sql) (0.7.5)\n",
            "Requirement already satisfied: traitlets>=4.2 in /usr/local/lib/python3.10/dist-packages (from ipython->ipython-sql) (5.7.1)\n",
            "Requirement already satisfied: prompt-toolkit!=3.0.0,!=3.0.1,<3.1.0,>=2.0.0 in /usr/local/lib/python3.10/dist-packages (from ipython->ipython-sql) (3.0.47)\n",
            "Requirement already satisfied: pygments in /usr/local/lib/python3.10/dist-packages (from ipython->ipython-sql) (2.16.1)\n",
            "Requirement already satisfied: backcall in /usr/local/lib/python3.10/dist-packages (from ipython->ipython-sql) (0.2.0)\n",
            "Requirement already satisfied: matplotlib-inline in /usr/local/lib/python3.10/dist-packages (from ipython->ipython-sql) (0.1.7)\n",
            "Requirement already satisfied: pexpect>4.3 in /usr/local/lib/python3.10/dist-packages (from ipython->ipython-sql) (4.9.0)\n",
            "Requirement already satisfied: wcwidth in /usr/local/lib/python3.10/dist-packages (from prettytable->ipython-sql) (0.2.13)\n",
            "Requirement already satisfied: parso<0.9.0,>=0.8.3 in /usr/local/lib/python3.10/dist-packages (from jedi>=0.16->ipython->ipython-sql) (0.8.4)\n",
            "Requirement already satisfied: ptyprocess>=0.5 in /usr/local/lib/python3.10/dist-packages (from pexpect>4.3->ipython->ipython-sql) (0.7.0)\n",
            "Downloading jedi-0.19.1-py2.py3-none-any.whl (1.6 MB)\n",
            "\u001b[2K   \u001b[90m━━━━━━━━━━━━━━━━━━━━━━━━━━━━━━━━━━━━━━━━\u001b[0m \u001b[32m1.6/1.6 MB\u001b[0m \u001b[31m41.4 MB/s\u001b[0m eta \u001b[36m0:00:00\u001b[0m\n",
            "\u001b[?25hInstalling collected packages: jedi\n",
            "Successfully installed jedi-0.19.1\n"
          ]
        }
      ]
    },
    {
      "cell_type": "markdown",
      "source": [
        "## Step 2: Connecting to the Database\n",
        "\n",
        "Next, I'll connect to the `TMDB.db` database  "
      ],
      "metadata": {
        "id": "4ZI90QpNQ40M"
      }
    },
    {
      "cell_type": "code",
      "source": [
        "%load_ext sql"
      ],
      "metadata": {
        "id": "cNknvXj0RsGt"
      },
      "execution_count": 10,
      "outputs": []
    },
    {
      "cell_type": "code",
      "source": [
        "%sql sqlite:///TMDB.db"
      ],
      "metadata": {
        "id": "9pPt5NciQwAt"
      },
      "execution_count": 11,
      "outputs": []
    },
    {
      "cell_type": "code",
      "source": [
        "%%sql\n",
        "SELECT name FROM sqlite_master WHERE type='table';\n"
      ],
      "metadata": {
        "colab": {
          "base_uri": "https://localhost:8080/",
          "height": 395
        },
        "id": "ad2yQF59Q0OU",
        "outputId": "e69e6fb9-483f-4ba6-e8cc-a656911319ad"
      },
      "execution_count": 13,
      "outputs": [
        {
          "output_type": "stream",
          "name": "stdout",
          "text": [
            " * sqlite:///TMDB.db\n",
            "Done.\n"
          ]
        },
        {
          "output_type": "execute_result",
          "data": {
            "text/plain": [
              "[('actors',),\n",
              " ('casts',),\n",
              " ('genremap',),\n",
              " ('genres',),\n",
              " ('keywordmap',),\n",
              " ('keywords',),\n",
              " ('languagemap',),\n",
              " ('languages',),\n",
              " ('movies',),\n",
              " ('oscars',),\n",
              " ('productioncompanies',),\n",
              " ('productioncompanymap',),\n",
              " ('productioncountries',),\n",
              " ('productioncountrymap',),\n",
              " ('sysdiagrams',)]"
            ],
            "text/html": [
              "<table>\n",
              "    <thead>\n",
              "        <tr>\n",
              "            <th>name</th>\n",
              "        </tr>\n",
              "    </thead>\n",
              "    <tbody>\n",
              "        <tr>\n",
              "            <td>actors</td>\n",
              "        </tr>\n",
              "        <tr>\n",
              "            <td>casts</td>\n",
              "        </tr>\n",
              "        <tr>\n",
              "            <td>genremap</td>\n",
              "        </tr>\n",
              "        <tr>\n",
              "            <td>genres</td>\n",
              "        </tr>\n",
              "        <tr>\n",
              "            <td>keywordmap</td>\n",
              "        </tr>\n",
              "        <tr>\n",
              "            <td>keywords</td>\n",
              "        </tr>\n",
              "        <tr>\n",
              "            <td>languagemap</td>\n",
              "        </tr>\n",
              "        <tr>\n",
              "            <td>languages</td>\n",
              "        </tr>\n",
              "        <tr>\n",
              "            <td>movies</td>\n",
              "        </tr>\n",
              "        <tr>\n",
              "            <td>oscars</td>\n",
              "        </tr>\n",
              "        <tr>\n",
              "            <td>productioncompanies</td>\n",
              "        </tr>\n",
              "        <tr>\n",
              "            <td>productioncompanymap</td>\n",
              "        </tr>\n",
              "        <tr>\n",
              "            <td>productioncountries</td>\n",
              "        </tr>\n",
              "        <tr>\n",
              "            <td>productioncountrymap</td>\n",
              "        </tr>\n",
              "        <tr>\n",
              "            <td>sysdiagrams</td>\n",
              "        </tr>\n",
              "    </tbody>\n",
              "</table>"
            ]
          },
          "metadata": {},
          "execution_count": 13
        }
      ]
    },
    {
      "cell_type": "markdown",
      "source": [
        "# Perform Basic SQL Query\n",
        "I'll retrieve the first few rows from the movies table to get a sense of the data."
      ],
      "metadata": {
        "id": "jHShw7pHSU3i"
      }
    },
    {
      "cell_type": "code",
      "source": [
        "%%sql\n",
        "SELECT * FROM genres LIMIT 5;"
      ],
      "metadata": {
        "colab": {
          "base_uri": "https://localhost:8080/",
          "height": 182
        },
        "id": "6ZyCu-unRH7H",
        "outputId": "5e6ac34f-356f-4166-f7ac-cbced5aee86e"
      },
      "execution_count": 31,
      "outputs": [
        {
          "output_type": "stream",
          "name": "stdout",
          "text": [
            " * sqlite:///TMDB.db\n",
            "Done.\n"
          ]
        },
        {
          "output_type": "execute_result",
          "data": {
            "text/plain": [
              "[(12, 'Adventure'),\n",
              " (14, 'Fantasy'),\n",
              " (16, 'Animation'),\n",
              " (18, 'Drama'),\n",
              " (27, 'Horror')]"
            ],
            "text/html": [
              "<table>\n",
              "    <thead>\n",
              "        <tr>\n",
              "            <th>genre_id</th>\n",
              "            <th>genre_name</th>\n",
              "        </tr>\n",
              "    </thead>\n",
              "    <tbody>\n",
              "        <tr>\n",
              "            <td>12</td>\n",
              "            <td>Adventure</td>\n",
              "        </tr>\n",
              "        <tr>\n",
              "            <td>14</td>\n",
              "            <td>Fantasy</td>\n",
              "        </tr>\n",
              "        <tr>\n",
              "            <td>16</td>\n",
              "            <td>Animation</td>\n",
              "        </tr>\n",
              "        <tr>\n",
              "            <td>18</td>\n",
              "            <td>Drama</td>\n",
              "        </tr>\n",
              "        <tr>\n",
              "            <td>27</td>\n",
              "            <td>Horror</td>\n",
              "        </tr>\n",
              "    </tbody>\n",
              "</table>"
            ]
          },
          "metadata": {},
          "execution_count": 31
        }
      ]
    },
    {
      "cell_type": "code",
      "source": [
        "%%sql\n",
        "CREATE VIEW Not_Released AS SELECT * FROM movies WHERE release_status <> 'Released';\n"
      ],
      "metadata": {
        "colab": {
          "base_uri": "https://localhost:8080/"
        },
        "id": "PcRGVtMHSbUc",
        "outputId": "04123dc5-728f-418a-9ba1-b6808aaaa1eb"
      },
      "execution_count": 21,
      "outputs": [
        {
          "output_type": "stream",
          "name": "stdout",
          "text": [
            " * sqlite:///TMDB.db\n",
            "Done.\n"
          ]
        },
        {
          "output_type": "execute_result",
          "data": {
            "text/plain": [
              "[]"
            ]
          },
          "metadata": {},
          "execution_count": 21
        }
      ]
    },
    {
      "cell_type": "code",
      "source": [
        "%%sql\n",
        "Select title, release_date, release_status From Not_Released;\n"
      ],
      "metadata": {
        "colab": {
          "base_uri": "https://localhost:8080/",
          "height": 246
        },
        "id": "l5n5m_hQUESP",
        "outputId": "17f72ae0-afb3-4c9f-bdda-69b78b37e003"
      },
      "execution_count": 22,
      "outputs": [
        {
          "output_type": "stream",
          "name": "stdout",
          "text": [
            " * sqlite:///TMDB.db\n",
            "Done.\n"
          ]
        },
        {
          "output_type": "execute_result",
          "data": {
            "text/plain": [
              "[('Little Big Top', '2006-01-01 00:00:00.000000', 'Rumored'),\n",
              " ('The Helix... Loaded', '2005-01-01 00:00:00.000000', 'Rumored'),\n",
              " ('Higher Ground', '2011-08-26 00:00:00.000000', 'Post Production'),\n",
              " ('Crying with Laughter', '2009-06-01 00:00:00.000000', 'Rumored'),\n",
              " ('The Harvest (La Cosecha)', '2011-07-29 00:00:00.000000', 'Rumored'),\n",
              " ('The Naked Ape', '2006-09-16 00:00:00.000000', 'Rumored'),\n",
              " ('Brotherly Love', '2015-04-24 00:00:00.000000', 'Post Production'),\n",
              " (\"Dancin' It's On\", '2015-10-16 00:00:00.000000', 'Post Production')]"
            ],
            "text/html": [
              "<table>\n",
              "    <thead>\n",
              "        <tr>\n",
              "            <th>title</th>\n",
              "            <th>release_date</th>\n",
              "            <th>release_status</th>\n",
              "        </tr>\n",
              "    </thead>\n",
              "    <tbody>\n",
              "        <tr>\n",
              "            <td>Little Big Top</td>\n",
              "            <td>2006-01-01 00:00:00.000000</td>\n",
              "            <td>Rumored</td>\n",
              "        </tr>\n",
              "        <tr>\n",
              "            <td>The Helix... Loaded</td>\n",
              "            <td>2005-01-01 00:00:00.000000</td>\n",
              "            <td>Rumored</td>\n",
              "        </tr>\n",
              "        <tr>\n",
              "            <td>Higher Ground</td>\n",
              "            <td>2011-08-26 00:00:00.000000</td>\n",
              "            <td>Post Production</td>\n",
              "        </tr>\n",
              "        <tr>\n",
              "            <td>Crying with Laughter</td>\n",
              "            <td>2009-06-01 00:00:00.000000</td>\n",
              "            <td>Rumored</td>\n",
              "        </tr>\n",
              "        <tr>\n",
              "            <td>The Harvest (La Cosecha)</td>\n",
              "            <td>2011-07-29 00:00:00.000000</td>\n",
              "            <td>Rumored</td>\n",
              "        </tr>\n",
              "        <tr>\n",
              "            <td>The Naked Ape</td>\n",
              "            <td>2006-09-16 00:00:00.000000</td>\n",
              "            <td>Rumored</td>\n",
              "        </tr>\n",
              "        <tr>\n",
              "            <td>Brotherly Love</td>\n",
              "            <td>2015-04-24 00:00:00.000000</td>\n",
              "            <td>Post Production</td>\n",
              "        </tr>\n",
              "        <tr>\n",
              "            <td>Dancin&#x27; It&#x27;s On</td>\n",
              "            <td>2015-10-16 00:00:00.000000</td>\n",
              "            <td>Post Production</td>\n",
              "        </tr>\n",
              "    </tbody>\n",
              "</table>"
            ]
          },
          "metadata": {},
          "execution_count": 22
        }
      ]
    },
    {
      "cell_type": "code",
      "source": [
        "%%sql\n",
        "\n",
        "SELECT COUNT(*)\n",
        "FROM movies\n",
        "WHERE title <> original_title;\n"
      ],
      "metadata": {
        "colab": {
          "base_uri": "https://localhost:8080/",
          "height": 96
        },
        "id": "rpMijv2DUtbA",
        "outputId": "595fe8d9-6aae-4c6b-c55f-9344d6eaffc4"
      },
      "execution_count": 23,
      "outputs": [
        {
          "output_type": "stream",
          "name": "stdout",
          "text": [
            " * sqlite:///TMDB.db\n",
            "Done.\n"
          ]
        },
        {
          "output_type": "execute_result",
          "data": {
            "text/plain": [
              "[(261,)]"
            ],
            "text/html": [
              "<table>\n",
              "    <thead>\n",
              "        <tr>\n",
              "            <th>COUNT(*)</th>\n",
              "        </tr>\n",
              "    </thead>\n",
              "    <tbody>\n",
              "        <tr>\n",
              "            <td>261</td>\n",
              "        </tr>\n",
              "    </tbody>\n",
              "</table>"
            ]
          },
          "metadata": {},
          "execution_count": 23
        }
      ]
    },
    {
      "cell_type": "code",
      "source": [
        "%%sql\n",
        "SELECT title\n",
        "FROM movies\n",
        "WHERE release_date > '2000-01-01'\n",
        "  AND budget > 100000000\n",
        "ORDER BY popularity DESC\n",
        "LIMIT 1;\n"
      ],
      "metadata": {
        "colab": {
          "base_uri": "https://localhost:8080/",
          "height": 96
        },
        "id": "5kCubgOYVFBV",
        "outputId": "91dfb8f9-0ba4-4715-ddf1-47a406fe2b41"
      },
      "execution_count": 24,
      "outputs": [
        {
          "output_type": "stream",
          "name": "stdout",
          "text": [
            " * sqlite:///TMDB.db\n",
            "Done.\n"
          ]
        },
        {
          "output_type": "execute_result",
          "data": {
            "text/plain": [
              "[('Interstellar',)]"
            ],
            "text/html": [
              "<table>\n",
              "    <thead>\n",
              "        <tr>\n",
              "            <th>title</th>\n",
              "        </tr>\n",
              "    </thead>\n",
              "    <tbody>\n",
              "        <tr>\n",
              "            <td>Interstellar</td>\n",
              "        </tr>\n",
              "    </tbody>\n",
              "</table>"
            ]
          },
          "metadata": {},
          "execution_count": 24
        }
      ]
    },
    {
      "cell_type": "code",
      "source": [
        "%%sql\n",
        "SELECT COUNT(*)\n",
        "FROM movies\n",
        "WHERE original_language != 'en';\n"
      ],
      "metadata": {
        "colab": {
          "base_uri": "https://localhost:8080/",
          "height": 96
        },
        "id": "NpIN9iggVY3c",
        "outputId": "37fd2ce9-7e2e-47ae-b757-06840492c29d"
      },
      "execution_count": 25,
      "outputs": [
        {
          "output_type": "stream",
          "name": "stdout",
          "text": [
            " * sqlite:///TMDB.db\n",
            "Done.\n"
          ]
        },
        {
          "output_type": "execute_result",
          "data": {
            "text/plain": [
              "[(298,)]"
            ],
            "text/html": [
              "<table>\n",
              "    <thead>\n",
              "        <tr>\n",
              "            <th>COUNT(*)</th>\n",
              "        </tr>\n",
              "    </thead>\n",
              "    <tbody>\n",
              "        <tr>\n",
              "            <td>298</td>\n",
              "        </tr>\n",
              "    </tbody>\n",
              "</table>"
            ]
          },
          "metadata": {},
          "execution_count": 25
        }
      ]
    },
    {
      "cell_type": "code",
      "source": [
        "%%sql\n",
        "SELECT COUNT(*)\n",
        "FROM movies m\n",
        "JOIN ProductionCompanyMap pcm ON m.movie_id = pcm.movie_id\n",
        "JOIN ProductionCompanies pc ON pcm.production_company_id = pc.production_company_id\n",
        "WHERE pc.production_company_name = 'Pixar Animation Studios';\n"
      ],
      "metadata": {
        "colab": {
          "base_uri": "https://localhost:8080/",
          "height": 96
        },
        "id": "9Qo_r46IVmiU",
        "outputId": "fc951f1d-8195-4d6e-e28c-529129f7a242"
      },
      "execution_count": 26,
      "outputs": [
        {
          "output_type": "stream",
          "name": "stdout",
          "text": [
            " * sqlite:///TMDB.db\n",
            "Done.\n"
          ]
        },
        {
          "output_type": "execute_result",
          "data": {
            "text/plain": [
              "[(16,)]"
            ],
            "text/html": [
              "<table>\n",
              "    <thead>\n",
              "        <tr>\n",
              "            <th>COUNT(*)</th>\n",
              "        </tr>\n",
              "    </thead>\n",
              "    <tbody>\n",
              "        <tr>\n",
              "            <td>16</td>\n",
              "        </tr>\n",
              "    </tbody>\n",
              "</table>"
            ]
          },
          "metadata": {},
          "execution_count": 26
        }
      ]
    },
    {
      "cell_type": "code",
      "source": [
        "%%sql\n",
        "SELECT COUNT(DISTINCT m.movie_id) AS num_movies\n",
        "FROM Movies m\n",
        "JOIN GenreMap gm1 ON m.movie_id = gm1.movie_id\n",
        "JOIN Genres g1 ON gm1.genre_id = g1.genre_id\n",
        "JOIN GenreMap gm2 ON m.movie_id = gm2.movie_id\n",
        "JOIN Genres g2 ON gm2.genre_id = g2.genre_id\n",
        "WHERE g1.genre_name = 'Romance'\n",
        "AND g2.genre_name = 'Comedy';\n"
      ],
      "metadata": {
        "colab": {
          "base_uri": "https://localhost:8080/",
          "height": 96
        },
        "id": "yCnCCrOPWATT",
        "outputId": "3a14e252-6a33-4ee8-8096-5841aaf008c6"
      },
      "execution_count": 34,
      "outputs": [
        {
          "output_type": "stream",
          "name": "stdout",
          "text": [
            " * sqlite:///TMDB.db\n",
            "Done.\n"
          ]
        },
        {
          "output_type": "execute_result",
          "data": {
            "text/plain": [
              "[(484,)]"
            ],
            "text/html": [
              "<table>\n",
              "    <thead>\n",
              "        <tr>\n",
              "            <th>num_movies</th>\n",
              "        </tr>\n",
              "    </thead>\n",
              "    <tbody>\n",
              "        <tr>\n",
              "            <td>484</td>\n",
              "        </tr>\n",
              "    </tbody>\n",
              "</table>"
            ]
          },
          "metadata": {},
          "execution_count": 34
        }
      ]
    },
    {
      "cell_type": "code",
      "source": [
        "%%sql\n",
        "WITH ActionMovies AS (\n",
        "  SELECT m.movie_id, m.title, m.popularity\n",
        "  FROM Movies m\n",
        "  JOIN GenreMap gm ON m.movie_id = gm.movie_id\n",
        "  JOIN Genres g ON gm.genre_id = g.genre_id\n",
        "  WHERE g.genre_name = 'Action'\n",
        ")\n",
        "SELECT a.title, a.popularity\n",
        "FROM ActionMovies a\n",
        "JOIN LanguageMap lm ON a.movie_id = lm.movie_id\n",
        "JOIN Languages l ON lm.iso_639_1 = l.iso_639_1\n",
        "WHERE l.language_name = 'Deutsch'\n",
        "ORDER BY a.popularity DESC\n",
        "LIMIT 1;\n"
      ],
      "metadata": {
        "colab": {
          "base_uri": "https://localhost:8080/",
          "height": 96
        },
        "id": "dH9_GGUwXv4r",
        "outputId": "8cdadcbe-3cbe-49d0-b69a-9295cf4000b9"
      },
      "execution_count": 36,
      "outputs": [
        {
          "output_type": "stream",
          "name": "stdout",
          "text": [
            " * sqlite:///TMDB.db\n",
            "Done.\n"
          ]
        },
        {
          "output_type": "execute_result",
          "data": {
            "text/plain": [
              "[('Captain America: Civil War', 198.372395)]"
            ],
            "text/html": [
              "<table>\n",
              "    <thead>\n",
              "        <tr>\n",
              "            <th>title</th>\n",
              "            <th>popularity</th>\n",
              "        </tr>\n",
              "    </thead>\n",
              "    <tbody>\n",
              "        <tr>\n",
              "            <td>Captain America: Civil War</td>\n",
              "            <td>198.372395</td>\n",
              "        </tr>\n",
              "    </tbody>\n",
              "</table>"
            ]
          },
          "metadata": {},
          "execution_count": 36
        }
      ]
    },
    {
      "cell_type": "code",
      "source": [
        "%%sql\n",
        "SELECT COUNT(DISTINCT m.movie_id) AS Ethan_Hunt_Movies\n",
        "FROM Movies m\n",
        "JOIN Casts c ON m.movie_id = c.movie_id\n",
        "JOIN Actors a ON c.actor_id = a.actor_id\n",
        "WHERE a.actor_name = 'Tom Cruise'\n",
        "  AND c.characters  = 'Ethan Hunt';\n"
      ],
      "metadata": {
        "colab": {
          "base_uri": "https://localhost:8080/",
          "height": 96
        },
        "id": "RC3FrgG5Y_ft",
        "outputId": "64003730-f424-48c3-8297-c4fd87726d07"
      },
      "execution_count": 39,
      "outputs": [
        {
          "output_type": "stream",
          "name": "stdout",
          "text": [
            " * sqlite:///TMDB.db\n",
            "Done.\n"
          ]
        },
        {
          "output_type": "execute_result",
          "data": {
            "text/plain": [
              "[(5,)]"
            ],
            "text/html": [
              "<table>\n",
              "    <thead>\n",
              "        <tr>\n",
              "            <th>Ethan_Hunt_Movies</th>\n",
              "        </tr>\n",
              "    </thead>\n",
              "    <tbody>\n",
              "        <tr>\n",
              "            <td>5</td>\n",
              "        </tr>\n",
              "    </tbody>\n",
              "</table>"
            ]
          },
          "metadata": {},
          "execution_count": 39
        }
      ]
    },
    {
      "cell_type": "code",
      "source": [
        "%%sql\n",
        "select name, award, year\n",
        "from oscars\n",
        "where name = 'Cate Blanchett';"
      ],
      "metadata": {
        "colab": {
          "base_uri": "https://localhost:8080/",
          "height": 225
        },
        "id": "oPAv7tNAZ5cM",
        "outputId": "e8147465-08f1-4f7c-8506-6894768f0980"
      },
      "execution_count": 44,
      "outputs": [
        {
          "output_type": "stream",
          "name": "stdout",
          "text": [
            " * sqlite:///TMDB.db\n",
            "Done.\n"
          ]
        },
        {
          "output_type": "execute_result",
          "data": {
            "text/plain": [
              "[('Cate Blanchett', 'Actress in a Leading Role', '1998'),\n",
              " ('Cate Blanchett', 'Actress in a Supporting Role', '2004'),\n",
              " ('Cate Blanchett', 'Actress in a Supporting Role', '2006'),\n",
              " ('Cate Blanchett', 'Actress in a Leading Role', '2007'),\n",
              " ('Cate Blanchett', 'Actress in a Supporting Role', '2007'),\n",
              " ('Cate Blanchett', 'Actress in a Leading Role', '2013'),\n",
              " ('Cate Blanchett', 'Actress in a Leading Role', '2015')]"
            ],
            "text/html": [
              "<table>\n",
              "    <thead>\n",
              "        <tr>\n",
              "            <th>name</th>\n",
              "            <th>award</th>\n",
              "            <th>year</th>\n",
              "        </tr>\n",
              "    </thead>\n",
              "    <tbody>\n",
              "        <tr>\n",
              "            <td>Cate Blanchett</td>\n",
              "            <td>Actress in a Leading Role</td>\n",
              "            <td>1998</td>\n",
              "        </tr>\n",
              "        <tr>\n",
              "            <td>Cate Blanchett</td>\n",
              "            <td>Actress in a Supporting Role</td>\n",
              "            <td>2004</td>\n",
              "        </tr>\n",
              "        <tr>\n",
              "            <td>Cate Blanchett</td>\n",
              "            <td>Actress in a Supporting Role</td>\n",
              "            <td>2006</td>\n",
              "        </tr>\n",
              "        <tr>\n",
              "            <td>Cate Blanchett</td>\n",
              "            <td>Actress in a Leading Role</td>\n",
              "            <td>2007</td>\n",
              "        </tr>\n",
              "        <tr>\n",
              "            <td>Cate Blanchett</td>\n",
              "            <td>Actress in a Supporting Role</td>\n",
              "            <td>2007</td>\n",
              "        </tr>\n",
              "        <tr>\n",
              "            <td>Cate Blanchett</td>\n",
              "            <td>Actress in a Leading Role</td>\n",
              "            <td>2013</td>\n",
              "        </tr>\n",
              "        <tr>\n",
              "            <td>Cate Blanchett</td>\n",
              "            <td>Actress in a Leading Role</td>\n",
              "            <td>2015</td>\n",
              "        </tr>\n",
              "    </tbody>\n",
              "</table>"
            ]
          },
          "metadata": {},
          "execution_count": 44
        }
      ]
    },
    {
      "cell_type": "code",
      "source": [
        "%%sql\n",
        "SELECT COUNT(DISTINCT m.movie_id) AS Movies_with_SA_Languages\n",
        "FROM Movies m\n",
        "JOIN LanguageMap lm ON m.movie_id = lm.movie_id\n",
        "JOIN Languages l ON lm.iso_639_1 = l.iso_639_1\n",
        "WHERE l.language_name IN ('Afrikaans', 'isiZulu');\n"
      ],
      "metadata": {
        "colab": {
          "base_uri": "https://localhost:8080/",
          "height": 96
        },
        "id": "TeeJnEILaoja",
        "outputId": "f8c6cedb-e110-474d-894e-2268afd813c4"
      },
      "execution_count": 68,
      "outputs": [
        {
          "output_type": "stream",
          "name": "stdout",
          "text": [
            " * sqlite:///TMDB.db\n",
            "Done.\n"
          ]
        },
        {
          "output_type": "execute_result",
          "data": {
            "text/plain": [
              "[('Tsotsi', 8)]"
            ],
            "text/html": [
              "<table>\n",
              "    <thead>\n",
              "        <tr>\n",
              "            <th>title</th>\n",
              "            <th>Movies_with_SA_Languages</th>\n",
              "        </tr>\n",
              "    </thead>\n",
              "    <tbody>\n",
              "        <tr>\n",
              "            <td>Tsotsi</td>\n",
              "            <td>8</td>\n",
              "        </tr>\n",
              "    </tbody>\n",
              "</table>"
            ]
          },
          "metadata": {},
          "execution_count": 68
        }
      ]
    },
    {
      "cell_type": "code",
      "source": [
        "%%sql\n",
        "SELECT m.title, GROUP_CONCAT(l.language_name, ', ') AS Languages\n",
        "FROM Movies m\n",
        "JOIN LanguageMap lm ON m.movie_id = lm.movie_id\n",
        "JOIN Languages l ON lm.iso_639_1 = l.iso_639_1\n",
        "WHERE l.language_name IN ('isiZulu', 'Afrikaans')\n",
        "GROUP BY m.movie_id;\n"
      ],
      "metadata": {
        "colab": {
          "base_uri": "https://localhost:8080/",
          "height": 246
        },
        "id": "CJQhg4Cdbxf4",
        "outputId": "57d8109b-faf7-490e-99bf-52537673038c"
      },
      "execution_count": 66,
      "outputs": [
        {
          "output_type": "stream",
          "name": "stdout",
          "text": [
            " * sqlite:///TMDB.db\n",
            "Done.\n"
          ]
        },
        {
          "output_type": "execute_result",
          "data": {
            "text/plain": [
              "[('Tsotsi', 'Afrikaans, isiZulu'),\n",
              " ('Catch a Fire', 'Afrikaans, isiZulu'),\n",
              " ('Blood Diamond', 'Afrikaans'),\n",
              " ('District 9', 'Afrikaans, isiZulu'),\n",
              " (\"Gangster's Paradise: Jerusalema\", 'Afrikaans'),\n",
              " ('Faith Like Potatoes', 'isiZulu'),\n",
              " ('Safe House', 'Afrikaans'),\n",
              " ('Mandela: Long Walk to Freedom', 'Afrikaans')]"
            ],
            "text/html": [
              "<table>\n",
              "    <thead>\n",
              "        <tr>\n",
              "            <th>title</th>\n",
              "            <th>Languages</th>\n",
              "        </tr>\n",
              "    </thead>\n",
              "    <tbody>\n",
              "        <tr>\n",
              "            <td>Tsotsi</td>\n",
              "            <td>Afrikaans, isiZulu</td>\n",
              "        </tr>\n",
              "        <tr>\n",
              "            <td>Catch a Fire</td>\n",
              "            <td>Afrikaans, isiZulu</td>\n",
              "        </tr>\n",
              "        <tr>\n",
              "            <td>Blood Diamond</td>\n",
              "            <td>Afrikaans</td>\n",
              "        </tr>\n",
              "        <tr>\n",
              "            <td>District 9</td>\n",
              "            <td>Afrikaans, isiZulu</td>\n",
              "        </tr>\n",
              "        <tr>\n",
              "            <td>Gangster&#x27;s Paradise: Jerusalema</td>\n",
              "            <td>Afrikaans</td>\n",
              "        </tr>\n",
              "        <tr>\n",
              "            <td>Faith Like Potatoes</td>\n",
              "            <td>isiZulu</td>\n",
              "        </tr>\n",
              "        <tr>\n",
              "            <td>Safe House</td>\n",
              "            <td>Afrikaans</td>\n",
              "        </tr>\n",
              "        <tr>\n",
              "            <td>Mandela: Long Walk to Freedom</td>\n",
              "            <td>Afrikaans</td>\n",
              "        </tr>\n",
              "    </tbody>\n",
              "</table>"
            ]
          },
          "metadata": {},
          "execution_count": 66
        }
      ]
    },
    {
      "cell_type": "code",
      "source": [
        "%%sql\n",
        "SELECT language_name, count(*) as total\n",
        "FROM Languages\n",
        "WHERE language_name = 'fulfulde';\n"
      ],
      "metadata": {
        "colab": {
          "base_uri": "https://localhost:8080/",
          "height": 96
        },
        "id": "Jt6PCdkoc0FG",
        "outputId": "02ac6456-6070-499d-9969-00fc7e0d5cd9"
      },
      "execution_count": 64,
      "outputs": [
        {
          "output_type": "stream",
          "name": "stdout",
          "text": [
            " * sqlite:///TMDB.db\n",
            "Done.\n"
          ]
        },
        {
          "output_type": "execute_result",
          "data": {
            "text/plain": [
              "[(None, 0)]"
            ],
            "text/html": [
              "<table>\n",
              "    <thead>\n",
              "        <tr>\n",
              "            <th>language_name</th>\n",
              "            <th>total</th>\n",
              "        </tr>\n",
              "    </thead>\n",
              "    <tbody>\n",
              "        <tr>\n",
              "            <td>None</td>\n",
              "            <td>0</td>\n",
              "        </tr>\n",
              "    </tbody>\n",
              "</table>"
            ]
          },
          "metadata": {},
          "execution_count": 64
        }
      ]
    },
    {
      "cell_type": "code",
      "source": [
        "%%sql\n",
        "SELECT l.language_name, COUNT(*) AS occurrence_count\n",
        "FROM Languages l\n",
        "JOIN LanguageMap lm ON l.iso_639_1 = lm.iso_639_1\n",
        "GROUP BY l.language_name;\n"
      ],
      "metadata": {
        "colab": {
          "base_uri": "https://localhost:8080/",
          "height": 1000
        },
        "id": "e2-ElcrTdMmO",
        "outputId": "f05c2d5e-2bd9-474d-9ae9-a199221ae95a"
      },
      "execution_count": 65,
      "outputs": [
        {
          "output_type": "stream",
          "name": "stdout",
          "text": [
            " * sqlite:///TMDB.db\n",
            "Done.\n"
          ]
        },
        {
          "output_type": "execute_result",
          "data": {
            "text/plain": [
              "[(None, 54),\n",
              " ('-slenska', 5),\n",
              " ('???', 204),\n",
              " ('??? / ???', 48),\n",
              " ('???/???', 31),\n",
              " ('????', 17),\n",
              " ('?????', 19),\n",
              " ('??????', 54),\n",
              " ('???????', 108),\n",
              " ('????????', 53),\n",
              " ('????????? ????', 3),\n",
              " ('???????????', 9),\n",
              " ('?esk²', 38),\n",
              " ('Afrikaans', 7),\n",
              " ('Bahasa indonesia', 2),\n",
              " ('Bamanankan', 1),\n",
              " ('Bosanski', 2),\n",
              " ('Catala', 1),\n",
              " ('Cymraeg', 2),\n",
              " ('Dansk', 14),\n",
              " ('Deutsch', 262),\n",
              " ('Eesti', 2),\n",
              " ('English', 4485),\n",
              " ('Espa±ol', 351),\n",
              " ('Esperanto', 2),\n",
              " ('Frantais', 437),\n",
              " ('Gaeilge', 6),\n",
              " ('Galego', 1),\n",
              " ('Hrvatski', 4),\n",
              " ('Italiano', 188),\n",
              " ('Kiswahili', 8),\n",
              " ('Latin', 52),\n",
              " ('Magyar', 42),\n",
              " ('Nederlands', 10),\n",
              " ('No Language', 2),\n",
              " ('Norsk', 13),\n",
              " ('P??????', 185),\n",
              " ('Polski', 53),\n",
              " ('PortuguOs', 68),\n",
              " ('RomGn?', 13),\n",
              " ('Sloven?ina', 2),\n",
              " ('SlovenÜ?ina', 1),\n",
              " ('Somali', 3),\n",
              " ('Srpski', 6),\n",
              " ('Ti?ng Vi?t', 17),\n",
              " ('Tnrkte', 18),\n",
              " ('Wolof', 1),\n",
              " ('isiZulu', 4),\n",
              " ('shqip', 4),\n",
              " ('suomi', 3),\n",
              " ('svenska', 22)]"
            ],
            "text/html": [
              "<table>\n",
              "    <thead>\n",
              "        <tr>\n",
              "            <th>language_name</th>\n",
              "            <th>occurrence_count</th>\n",
              "        </tr>\n",
              "    </thead>\n",
              "    <tbody>\n",
              "        <tr>\n",
              "            <td>None</td>\n",
              "            <td>54</td>\n",
              "        </tr>\n",
              "        <tr>\n",
              "            <td>-slenska</td>\n",
              "            <td>5</td>\n",
              "        </tr>\n",
              "        <tr>\n",
              "            <td>???</td>\n",
              "            <td>204</td>\n",
              "        </tr>\n",
              "        <tr>\n",
              "            <td>??? / ???</td>\n",
              "            <td>48</td>\n",
              "        </tr>\n",
              "        <tr>\n",
              "            <td>???/???</td>\n",
              "            <td>31</td>\n",
              "        </tr>\n",
              "        <tr>\n",
              "            <td>????</td>\n",
              "            <td>17</td>\n",
              "        </tr>\n",
              "        <tr>\n",
              "            <td>?????</td>\n",
              "            <td>19</td>\n",
              "        </tr>\n",
              "        <tr>\n",
              "            <td>??????</td>\n",
              "            <td>54</td>\n",
              "        </tr>\n",
              "        <tr>\n",
              "            <td>???????</td>\n",
              "            <td>108</td>\n",
              "        </tr>\n",
              "        <tr>\n",
              "            <td>????????</td>\n",
              "            <td>53</td>\n",
              "        </tr>\n",
              "        <tr>\n",
              "            <td>????????? ????</td>\n",
              "            <td>3</td>\n",
              "        </tr>\n",
              "        <tr>\n",
              "            <td>???????????</td>\n",
              "            <td>9</td>\n",
              "        </tr>\n",
              "        <tr>\n",
              "            <td>?esk²</td>\n",
              "            <td>38</td>\n",
              "        </tr>\n",
              "        <tr>\n",
              "            <td>Afrikaans</td>\n",
              "            <td>7</td>\n",
              "        </tr>\n",
              "        <tr>\n",
              "            <td>Bahasa indonesia</td>\n",
              "            <td>2</td>\n",
              "        </tr>\n",
              "        <tr>\n",
              "            <td>Bamanankan</td>\n",
              "            <td>1</td>\n",
              "        </tr>\n",
              "        <tr>\n",
              "            <td>Bosanski</td>\n",
              "            <td>2</td>\n",
              "        </tr>\n",
              "        <tr>\n",
              "            <td>Catala</td>\n",
              "            <td>1</td>\n",
              "        </tr>\n",
              "        <tr>\n",
              "            <td>Cymraeg</td>\n",
              "            <td>2</td>\n",
              "        </tr>\n",
              "        <tr>\n",
              "            <td>Dansk</td>\n",
              "            <td>14</td>\n",
              "        </tr>\n",
              "        <tr>\n",
              "            <td>Deutsch</td>\n",
              "            <td>262</td>\n",
              "        </tr>\n",
              "        <tr>\n",
              "            <td>Eesti</td>\n",
              "            <td>2</td>\n",
              "        </tr>\n",
              "        <tr>\n",
              "            <td>English</td>\n",
              "            <td>4485</td>\n",
              "        </tr>\n",
              "        <tr>\n",
              "            <td>Espa±ol</td>\n",
              "            <td>351</td>\n",
              "        </tr>\n",
              "        <tr>\n",
              "            <td>Esperanto</td>\n",
              "            <td>2</td>\n",
              "        </tr>\n",
              "        <tr>\n",
              "            <td>Frantais</td>\n",
              "            <td>437</td>\n",
              "        </tr>\n",
              "        <tr>\n",
              "            <td>Gaeilge</td>\n",
              "            <td>6</td>\n",
              "        </tr>\n",
              "        <tr>\n",
              "            <td>Galego</td>\n",
              "            <td>1</td>\n",
              "        </tr>\n",
              "        <tr>\n",
              "            <td>Hrvatski</td>\n",
              "            <td>4</td>\n",
              "        </tr>\n",
              "        <tr>\n",
              "            <td>Italiano</td>\n",
              "            <td>188</td>\n",
              "        </tr>\n",
              "        <tr>\n",
              "            <td>Kiswahili</td>\n",
              "            <td>8</td>\n",
              "        </tr>\n",
              "        <tr>\n",
              "            <td>Latin</td>\n",
              "            <td>52</td>\n",
              "        </tr>\n",
              "        <tr>\n",
              "            <td>Magyar</td>\n",
              "            <td>42</td>\n",
              "        </tr>\n",
              "        <tr>\n",
              "            <td>Nederlands</td>\n",
              "            <td>10</td>\n",
              "        </tr>\n",
              "        <tr>\n",
              "            <td>No Language</td>\n",
              "            <td>2</td>\n",
              "        </tr>\n",
              "        <tr>\n",
              "            <td>Norsk</td>\n",
              "            <td>13</td>\n",
              "        </tr>\n",
              "        <tr>\n",
              "            <td>P??????</td>\n",
              "            <td>185</td>\n",
              "        </tr>\n",
              "        <tr>\n",
              "            <td>Polski</td>\n",
              "            <td>53</td>\n",
              "        </tr>\n",
              "        <tr>\n",
              "            <td>PortuguOs</td>\n",
              "            <td>68</td>\n",
              "        </tr>\n",
              "        <tr>\n",
              "            <td>RomGn?</td>\n",
              "            <td>13</td>\n",
              "        </tr>\n",
              "        <tr>\n",
              "            <td>Sloven?ina</td>\n",
              "            <td>2</td>\n",
              "        </tr>\n",
              "        <tr>\n",
              "            <td>SlovenÜ?ina</td>\n",
              "            <td>1</td>\n",
              "        </tr>\n",
              "        <tr>\n",
              "            <td>Somali</td>\n",
              "            <td>3</td>\n",
              "        </tr>\n",
              "        <tr>\n",
              "            <td>Srpski</td>\n",
              "            <td>6</td>\n",
              "        </tr>\n",
              "        <tr>\n",
              "            <td>Ti?ng Vi?t</td>\n",
              "            <td>17</td>\n",
              "        </tr>\n",
              "        <tr>\n",
              "            <td>Tnrkte</td>\n",
              "            <td>18</td>\n",
              "        </tr>\n",
              "        <tr>\n",
              "            <td>Wolof</td>\n",
              "            <td>1</td>\n",
              "        </tr>\n",
              "        <tr>\n",
              "            <td>isiZulu</td>\n",
              "            <td>4</td>\n",
              "        </tr>\n",
              "        <tr>\n",
              "            <td>shqip</td>\n",
              "            <td>4</td>\n",
              "        </tr>\n",
              "        <tr>\n",
              "            <td>suomi</td>\n",
              "            <td>3</td>\n",
              "        </tr>\n",
              "        <tr>\n",
              "            <td>svenska</td>\n",
              "            <td>22</td>\n",
              "        </tr>\n",
              "    </tbody>\n",
              "</table>"
            ]
          },
          "metadata": {},
          "execution_count": 65
        }
      ]
    },
    {
      "cell_type": "code",
      "source": [
        "%%sql\n",
        "SELECT title, popularity\n",
        "FROM Movies\n",
        "WHERE title IN (\"District 9\", \"Gangster's\", \"Paradise: Jerusalema\", \"Tsotsi\", \"Blood Diamond\")\n",
        "ORDER BY popularity DESC;"
      ],
      "metadata": {
        "colab": {
          "base_uri": "https://localhost:8080/",
          "height": 139
        },
        "id": "ETGHoH2remID",
        "outputId": "031b8492-a092-4e21-ae08-ca252d19e1af"
      },
      "execution_count": 72,
      "outputs": [
        {
          "output_type": "stream",
          "name": "stdout",
          "text": [
            " * sqlite:///TMDB.db\n",
            "Done.\n"
          ]
        },
        {
          "output_type": "execute_result",
          "data": {
            "text/plain": [
              "[('District 9', 63.13678), ('Blood Diamond', 52.792678), ('Tsotsi', 2.504169)]"
            ],
            "text/html": [
              "<table>\n",
              "    <thead>\n",
              "        <tr>\n",
              "            <th>title</th>\n",
              "            <th>popularity</th>\n",
              "        </tr>\n",
              "    </thead>\n",
              "    <tbody>\n",
              "        <tr>\n",
              "            <td>District 9</td>\n",
              "            <td>63.13678</td>\n",
              "        </tr>\n",
              "        <tr>\n",
              "            <td>Blood Diamond</td>\n",
              "            <td>52.792678</td>\n",
              "        </tr>\n",
              "        <tr>\n",
              "            <td>Tsotsi</td>\n",
              "            <td>2.504169</td>\n",
              "        </tr>\n",
              "    </tbody>\n",
              "</table>"
            ]
          },
          "metadata": {},
          "execution_count": 72
        }
      ]
    },
    {
      "cell_type": "code",
      "source": [],
      "metadata": {
        "id": "A9C1XH-qfopi"
      },
      "execution_count": null,
      "outputs": []
    }
  ]
}